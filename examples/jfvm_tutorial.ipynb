{
 "metadata": {
  "language": "Julia",
  "name": "",
  "signature": "sha256:d2e36d40f4cdca095c7a152aa22fda177727491c4504b6dcfca44b8d259dd7aa"
 },
 "nbformat": 3,
 "nbformat_minor": 0,
 "worksheets": [
  {
   "cells": [
    {
     "cell_type": "markdown",
     "metadata": {},
     "source": [
      "# A tutorial that starts with FNYAQ\n",
      "These are some notes that may be helpful to anyone who wants to play with this tool. (FNYAQ = Frequently Not-Yet-Asked Questions)\n",
      "\n",
      "## The PDE\n",
      "This is the general form of the equation that can be solved using JFVM code: $$ \\alpha \\frac {\\partial \\phi} {\\partial t} + \\nabla.(\\mathbf{u} \\phi) + \\nabla.(-D \\nabla \\phi) + \\beta \\phi = \\phi_0$$ \n",
      "The boundary condition is written in the general form of $$a \\nabla \\phi . \\mathbf{n} + b \\phi = c$$\n",
      "Simple and compact as the above equations seem, they represent a diverse number of physical systems. Yes. you can guess that I'm a chemical engineer.\n",
      "\n",
      "## The PDE solver\n",
      "This code is not a exactly a PDE solver. It is a discretization tool, which uses finite volume method, to convert each term in the mentioned equations to a linear system of equations: $$M_t(\\phi-\\phi_{old})+M_{conv} \\phi-M_{diff}\\phi+M_{ls}\\phi+M_{bc}\\phi=RHS_{0}+RHS_{bc}$$ This allows the user to easily handle any equation with transient-convection-diffusion-source terms or even a system of coupled PDE's.\n",
      "\n",
      "## Why finite volume?\n",
      "Because it's mass conservative, and I like it (remember the ChemEng thing).\n",
      "\n",
      "## What is the purpose\n",
      "The main purpose is to have a *toy* tool that allows the user to *play* with 1D models. Then if the mentioned user is happy with 1D results, easily switch it to 2D and 3D or switch to other coordinate systems:\n",
      "  - Cartesian (1D, 2D 3D)\n",
      "  - Cylindrical (1D, 2D, 3D)\n",
      "  - Radial (r, $\\theta$)\n",
      "  - Spherical (3D) [coming soon]\n",
      "\n",
      "The discretization schemes include\n",
      "  - Central difference\n",
      "  - Upwind\n",
      "  - TVD (with a bunch of flux limiters)\n",
      "\n",
      "## Inspiration\n",
      "[FiPy](http://www.ctcms.nist.gov/fipy/). I've learned a lot from using it. It's a fantastic Python package, which was a bit too big for what I wanted to do. It has still some issues with boundary conditions in cylindrical coordinate. I use more or less the same names that FiPy uses in describing FVM terms."
     ]
    },
    {
     "cell_type": "markdown",
     "metadata": {},
     "source": [
      "# Tutorial 1: Diffusion equation\n",
      "As a first example, I try to solve the diffusion equation, i.e., $$ \\frac {\\partial c} {\\partial t} + \\nabla.(-D \\nabla c)=0$$ The boundary condition is written in the general form of $$a \\nabla \\phi . \\mathbf{n} + b \\phi = c$$ We use Dirichlet boundary condition for the left and right boundaries, i.e., $c=1.0$ at the left boundary and $c=1.0$ at the right boundary. The initial condition is $c=0.0$ at $t=0.$"
     ]
    },
    {
     "cell_type": "markdown",
     "metadata": {},
     "source": [
      "## Workflow\n",
      "  - Create a mesh structure\n",
      "  - Create a boundary condition structure\n",
      "  - Create a `CellValue` of the initial condition\n",
      "  - Create a `CellValue` of the diffusion coefficient [yes, can be hetrogeneous]\n",
      "  - Use an `averaging scheme` to calculate the average diffusion coefficient on the cell faces; assign it to a `FaceValue`\n",
      "  - Calculate the Matrix of coefficient for the diffusion term\n",
      "  - Calculate the Matrix of coefficient and RHS vector for the boundary condition term\n",
      "  - Choose a time step (indeed has nothing to do with this tool!)\n",
      "  - Start the time loop\n",
      "    - Calculate the Matrix of coefficient and RHS vector for the transient term\n",
      "    - Solve the PDE and find the `CellValue` in the new time step\n",
      "  - Visualize the solution  "
     ]
    },
    {
     "cell_type": "markdown",
     "metadata": {},
     "source": [
      "### Start the solver"
     ]
    },
    {
     "cell_type": "code",
     "collapsed": false,
     "input": [
      "using JFVM"
     ],
     "language": "python",
     "metadata": {},
     "outputs": [],
     "prompt_number": 1
    },
    {
     "cell_type": "markdown",
     "metadata": {},
     "source": [
      "It loads all the functions, and also loads `PyPlot` and `PyCall`, which is used to load `mayavi.mlab` as a variable called `mayavis` (short for mayavi visualization tools). one and two dimensional visualizations are done in `matplotlib` and 3D visualization is done in `mayavi`, so don't forget to install both packages. In ubuntu, you can simply type\n",
      "```\n",
      "sudo apt-get install python-matplotlib mayavi2\n",
      "```\n",
      "before using the code."
     ]
    },
    {
     "cell_type": "markdown",
     "metadata": {},
     "source": [
      "### Creating a mesh structure\n",
      "\n",
      "The created mesh can be uniform (same cell sizes) or nonuniform. The uniform mesh is defined based on the size of the domain and the number of cells in each direction, and the nonuniform mesh is defined based on the position of cell faces in each direction. For example, you can create a uniform 1D mesh with 10 cells on a 5 m domain by writing:"
     ]
    },
    {
     "cell_type": "code",
     "collapsed": false,
     "input": [
      "Nx = 10 # number of cells in x direction\n",
      "Lx = 5.0 # [m] domain length in x direction\n",
      "m_uni = createMesh1D(Nx, Lx)"
     ],
     "language": "python",
     "metadata": {},
     "outputs": [
      {
       "metadata": {},
       "output_type": "pyout",
       "prompt_number": 2,
       "text": [
        "JFVM.MeshStructure(1,[10],JFVM.CellSize([0.5,0.5,0.5,0.5,0.5,0.5,0.5,0.5,0.5,0.5,0.5,0.5],[0.0],[0.0]),JFVM.CellLocation([0.25,0.75,1.25,1.75,2.25,2.75,3.25,3.75,4.25,4.75],[0.0],[0.0]),JFVM.FaceLocation([0.0,0.5,1.0,1.5,2.0,2.5,3.0,3.5,4.0,4.5,5.0],[0.0],[0.0]),[1],[1])"
       ]
      }
     ],
     "prompt_number": 2
    },
    {
     "cell_type": "markdown",
     "metadata": {},
     "source": [
      "You can generate a nonuniform mesh by explicitly specifying the location of each *cell face* in the x direction. Let's see the location of *cell faces* in the uniform mesh we created above:"
     ]
    },
    {
     "cell_type": "code",
     "collapsed": false,
     "input": [
      "m_uni.facecenters.x"
     ],
     "language": "python",
     "metadata": {},
     "outputs": [
      {
       "metadata": {},
       "output_type": "pyout",
       "prompt_number": 8,
       "text": [
        "11-element Array{Float64,1}:\n",
        " 0.0\n",
        " 0.5\n",
        " 1.0\n",
        " 1.5\n",
        " 2.0\n",
        " 2.5\n",
        " 3.0\n",
        " 3.5\n",
        " 4.0\n",
        " 4.5\n",
        " 5.0"
       ]
      }
     ],
     "prompt_number": 8
    },
    {
     "cell_type": "markdown",
     "metadata": {},
     "source": [
      "Now I can define a different *cell face* vector to define a new nonuniform mesh:"
     ]
    },
    {
     "cell_type": "code",
     "collapsed": false,
     "input": [
      "x = [0.0, 0.1, 0.3, 0.35, 1.0, 3.0, 3.4, 4.5, 5.0]\n",
      "m_nonuni = createMesh1D(x)"
     ],
     "language": "python",
     "metadata": {},
     "outputs": [
      {
       "metadata": {},
       "output_type": "pyout",
       "prompt_number": 3,
       "text": [
        "JFVM.MeshStructure(1,[8],JFVM.CellSize([0.1,0.1,0.19999999999999998,0.04999999999999999,0.65,2.0,0.3999999999999999,1.1,0.5,0.5],[0.0],[0.0]),JFVM.CellLocation([0.05,0.2,0.32499999999999996,0.675,2.0,3.2,3.95,4.75],[0.0],[0.0]),JFVM.FaceLocation([0.0,0.1,0.3,0.35,1.0,3.0,3.4,4.5,5.0],[0.0],[0.0]),[1],[1])"
       ]
      }
     ],
     "prompt_number": 3
    },
    {
     "cell_type": "markdown",
     "metadata": {},
     "source": [
      "Other commands for creating mesh structures are:"
     ]
    },
    {
     "cell_type": "code",
     "collapsed": false,
     "input": [
      "Nx = 3 # number of cells in x-direction\n",
      "Ny = 4 # number of cells in y-direction\n",
      "Nz = 5 # number of cells in z-direction\n",
      "Nr = 6 # number of cells in r-direction [radial]\n",
      "Ntheta = 7 # number of cells in \\theta-direction [2d radial, 3d cylindrical and spherical]\n",
      "\n",
      "Lx = 1.0 # domain length in x-direction\n",
      "Ly = 2.0 # domain length in y-direction\n",
      "Lz = 3.0 # domain length in z-direction\n",
      "Lr = 4.0 # domain length in r-direction\n",
      "Ltheta = 2*pi # domain length in \\theta-direction [in radian]\n",
      "\n",
      "x=[0.0 , 0.4, 0.6, 1.0] # cell face positions in the x-direction\n",
      "y=[0.0 , 0.4, 0.6, 1.0, 2.0] # cell face positions in the y-direction\n",
      "z=[0.0 , 0.4, 0.6, 1.0, 2.0, 3.0] # cell face positions in the z-direction\n",
      "r=[0.0 , 0.4, 0.6, 1.0, 2.0, 3.0, 4.0] # cell face positions in the r-direction\n",
      "theta=5.0./[0.0 , 0.4, 0.6, 1.0, 2.0, 3.0, 4.0, 5.0]*Ltheta # cell face positions in the \\theta-direction\n",
      "\n",
      "# 1D cartesian uniform mesh:\n",
      "m_1d_cartesian_uniform = createMesh1D(Nx, Lx)\n",
      "# 1D cartesian nonuniform mesh\n",
      "m_1d_cartesian_nonuniform = createMesh1D(x)\n",
      "# 1D radial uniform mesh\n",
      "m_1d_radial_uniform = createMeshCylindrical1D(Nr, Lr) \n",
      "# 1D radial nonuniform mesh\n",
      "m_1d_radial_nonuniform = createMeshCylindrical1D(r) \n",
      "# 2D cartesian uniform mesh\n",
      "m_2d_cartesian_uniform = createMesh2D(Nx, Ny, Lx, Ly) \n",
      "# 2D cartesian nonuniform mesh\n",
      "m_2d_cartesian_nonuniform = createMesh2D(x, y) \n",
      "# 2D cylindrical uniform mesh\n",
      "m_2d_cylindrical_uniform = createMeshCylindrical2D(Nr, Nz, Lr, Lz) \n",
      "# 2D cylindrical nonuniform mesh\n",
      "m_2d_cylindrical_nonuniform = createMeshCylindrical2D(r, z) \n",
      "# 2D radial uniform mesh\n",
      "m_2d_radial_uniform = createMeshRadial2D(Nr, Ntheta, Lr, Ltheta) \n",
      "# 2D radial nonuniform mesh\n",
      "m_2d_radial_nonuniform = createMeshRadial2D(r, theta) \n",
      "# 3D cartesian uniform mesh\n",
      "m_3d_cartesian_uniform = createMesh3D(Nx, Ny, Nz, Lx, Ly, Lz) \n",
      "# 3D cartesian nonuniform mesh\n",
      "m_3d_cartesian_nonuniform = createMesh3D(x, y, z) \n",
      "# 3D cylindrical uniform mesh\n",
      "m_3d_cylindrical_uniform = createMeshCylindrical3D(Nr, Ntheta, Nz, Lr, Ltheta, Lz) \n",
      "# 3D cylindrical nonuniform mesh\n",
      "m_3d_cylindrical_nonuniform = createMeshCylindrical3D(r, theta, z)\n",
      "println(\"Various mesh types in JFVM!\")"
     ],
     "language": "python",
     "metadata": {},
     "outputs": [
      {
       "output_type": "stream",
       "stream": "stdout",
       "text": [
        "Various mesh types in JFVM\n"
       ]
      }
     ],
     "prompt_number": 5
    },
    {
     "cell_type": "markdown",
     "metadata": {},
     "source": [
      "### Boundary conditions\n",
      "The mesh structure can be created using the function `createBC`. The default boundary conditions are Neumann, i.e., $$\\nabla \\phi .\\mathbf{n} = 0.$$ However, we can easily change it to Dirichlet or Robin (oh, Robin! You are everywhere) by altering the values of $a$, $b$, and $c$ in the following form of boundary condition: $$a \\nabla \\phi .\\mathbf{n} + b \\phi= c.$$ You can change these values on every cell face on each boundary separately. I'll demonstrate it in a moment. Right now, we create a boundary condition structure and change the left and right boundaries to Dirichlet (fixed values):"
     ]
    },
    {
     "cell_type": "code",
     "collapsed": false,
     "input": [
      "Nx = 10\n",
      "Lx = 1.0\n",
      "m = createMesh1D(Nx, Lx)\n",
      "BC = createBC(m)\n",
      "BC.left.a[:]=BC.right.a[:]=0.0\n",
      "BC.left.b[:]=BC.right.b[:]=1.0\n",
      "BC.left.c[:]=1.0\n",
      "BC.right.c[:]=0.0"
     ],
     "language": "python",
     "metadata": {},
     "outputs": [
      {
       "metadata": {},
       "output_type": "pyout",
       "prompt_number": 32,
       "text": [
        "0.0"
       ]
      }
     ],
     "prompt_number": 32
    },
    {
     "cell_type": "markdown",
     "metadata": {},
     "source": [
      "### Cell variables, face variables, and initial conditions\n",
      "I use ghost cells to handle boundary conditions. Therefore, the number of cells in each direction has two more values for the ghost cells. The value of ghost cells depends on the boundary conditions. When we assign the initial condition to the cell values, we need to provide the boundary condition structure to calculate the values of the ghost cells. For other cell values, e.g., transfer coefficients, no boundary condition is required but the ghost cells are still initialized to make some computation more convenient (for instance averaging on the cell faces). The *cell values* are created by:"
     ]
    },
    {
     "cell_type": "code",
     "collapsed": false,
     "input": [
      "c_init = 0.0 # initial value of the variable\n",
      "c_old = createCellVariable(m, 0.0, BC)\n",
      "c_old.value"
     ],
     "language": "python",
     "metadata": {},
     "outputs": [
      {
       "metadata": {},
       "output_type": "pyout",
       "prompt_number": 33,
       "text": [
        "12-element Array{Float64,1}:\n",
        " 2.0\n",
        " 0.0\n",
        " 0.0\n",
        " 0.0\n",
        " 0.0\n",
        " 0.0\n",
        " 0.0\n",
        " 0.0\n",
        " 0.0\n",
        " 0.0\n",
        " 0.0\n",
        " 0.0"
       ]
      }
     ],
     "prompt_number": 33
    },
    {
     "cell_type": "markdown",
     "metadata": {},
     "source": [
      "As you can see, the value of the ghost cell near the left boundary is 2.0, which makes sense. The transfer coefficient, here the diffusion coefficient, is also assigned to each cell (no need to say that it can be heterogeneous, i.e., different values on each cell). However, the transfer coefficients must be averaged on the cell faces. I have implemented a few averaging schemes in the code, that you can see here:"
     ]
    },
    {
     "cell_type": "code",
     "collapsed": false,
     "input": [
      "D_val = 1.0 # value of the diffusion coefficient\n",
      "D_cell = createCellVariable(m, D_val) # assigned to cells\n",
      "\n",
      "# Harmonic average\n",
      "D_face = harmonicMean(D_cell)\n",
      "# Geometric average\n",
      "D_face = geometricMean(D_cell)\n",
      "# Arithmetic average\n",
      "D_face = arithmeticMean(D_cell)\n",
      "# UpwindMean, tvdMean, and linearMean can also be used for other purposes, e.g., linearizing a PDE"
     ],
     "language": "python",
     "metadata": {},
     "outputs": [
      {
       "metadata": {},
       "output_type": "pyout",
       "prompt_number": 22,
       "text": [
        "JFVM.FaceValue(JFVM.MeshStructure(1,[10],JFVM.CellSize([0.1,0.1,0.1,0.1,0.1,0.1,0.1,0.1,0.1,0.1,0.1,0.1],[0.0],[0.0]),JFVM.CellLocation([0.05,0.15000000000000002,0.25000000000000006,0.35000000000000003,0.45,0.55,0.65,0.75,0.85,0.95],[0.0],[0.0]),JFVM.FaceLocation([0.0,0.1,0.2,0.30000000000000004,0.4,0.5,0.6000000000000001,0.7000000000000001,0.8,0.9,1.0],[0.0],[0.0]),[1],[1]),[1.0,1.0,1.0,1.0,1.0,1.0,1.0,1.0,1.0,1.0,1.0],[1.0],[1.0])"
       ]
      }
     ],
     "prompt_number": 22
    },
    {
     "cell_type": "markdown",
     "metadata": {},
     "source": [
      "### Choose a time step\n",
      "This is not really related to this code, but let's write a couple of lines about it. What can help you in choosing an effective time step is the length of the domain and the diffusion coefficient. Here, we can choose the time step to be $$ \\Delta t = \\frac{1}{N_{steps}} \\sqrt{\\frac{L^2}{D}}$$ Do the dimensional analysis for yourself."
     ]
    },
    {
     "cell_type": "code",
     "collapsed": false,
     "input": [
      "N_steps = 20 # number of time steps\n",
      "dt= sqrt(Lx^2/D_val)/N_steps # time step"
     ],
     "language": "python",
     "metadata": {},
     "outputs": [
      {
       "metadata": {},
       "output_type": "pyout",
       "prompt_number": 31,
       "text": [
        "0.05"
       ]
      }
     ],
     "prompt_number": 31
    },
    {
     "cell_type": "markdown",
     "metadata": {},
     "source": [
      "### Discretization, solution, and visualization\n",
      "This part is actually quite short, because the main work is done. The PDE is discretized term by term. I learned this method from [FiPy](http://www.ctcms.nist.gov/fipy/). You can do it as follows:"
     ]
    },
    {
     "cell_type": "code",
     "collapsed": false,
     "input": [
      "M_diff = diffusionTerm(D_face) # matrix of coefficient for diffusion term\n",
      "(M_bc, RHS_bc)=boundaryConditionTerm(BC) # matrix of coefficient and RHS for the BC\n",
      "for i =1:5\n",
      "    (M_t, RHS_t)=transientTerm(c_old, dt, 1.0)\n",
      "    M=M_t-M_diff+M_bc # add all the [sparse] matrices of coefficient\n",
      "    RHS=RHS_bc+RHS_t # add all the RHS's together\n",
      "    c_old = solveLinearPDE(m, M, RHS) # solve the PDE for the first time step, and replace the old value\n",
      "end"
     ],
     "language": "python",
     "metadata": {},
     "outputs": [],
     "prompt_number": 39
    },
    {
     "cell_type": "markdown",
     "metadata": {},
     "source": [
      "## The whole code in one block"
     ]
    },
    {
     "cell_type": "code",
     "collapsed": false,
     "input": [
      "Nx = 10\n",
      "Lx = 1.0\n",
      "m = createMesh1D(Nx, Lx)\n",
      "BC = createBC(m)\n",
      "BC.left.a[:]=BC.right.a[:]=0.0\n",
      "BC.left.b[:]=BC.right.b[:]=1.0\n",
      "BC.left.c[:]=1.0\n",
      "BC.right.c[:]=0.0\n",
      "c_init = 0.0 # initial value of the variable\n",
      "c_old = createCellVariable(m, 0.0, BC)\n",
      "D_val = 1.0 # value of the diffusion coefficient\n",
      "D_cell = createCellVariable(m, D_val) # assigned to cells\n",
      "# Harmonic average\n",
      "D_face = harmonicMean(D_cell)\n",
      "N_steps = 20 # number of time steps\n",
      "dt= sqrt(Lx^2/D_val)/N_steps # time step\n",
      "M_diff = diffusionTerm(D_face) # matrix of coefficient for diffusion term\n",
      "(M_bc, RHS_bc)=boundaryConditionTerm(BC) # matrix of coefficient and RHS for the BC\n",
      "for i =1:5\n",
      "    (M_t, RHS_t)=transientTerm(c_old, dt, 1.0)\n",
      "    M=M_t-M_diff+M_bc # add all the [sparse] matrices of coefficient\n",
      "    RHS=RHS_bc+RHS_t # add all the RHS's together\n",
      "    c_old = solveLinearPDE(m, M, RHS) # solve the PDE\n",
      "    visualizeCells(c_old)\n",
      "end"
     ],
     "language": "python",
     "metadata": {},
     "outputs": [
      {
       "metadata": {},
       "output_type": "display_data",
       "png": "[encoded data removed]",
       "text": [
        "PyPlot.Figure(PyObject <matplotlib.figure.Figure object at 0x7f9be03fed10>)"
       ]
      }
     ],
     "prompt_number": 40
    }
   ],
   "metadata": {}
  }
 ]
}